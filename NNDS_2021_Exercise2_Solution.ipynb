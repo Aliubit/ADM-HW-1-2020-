{
  "nbformat": 4,
  "nbformat_minor": 0,
  "metadata": {
    "colab": {
      "name": "NNDS_2021_Exercise2_Solution.ipynb",
      "provenance": [],
      "include_colab_link": true
    },
    "kernelspec": {
      "name": "python3",
      "display_name": "Python 3"
    },
    "language_info": {
      "name": "python"
    },
    "widgets": {
      "application/vnd.jupyter.widget-state+json": {
        "c7ef3f32cff141ebba02669681b73ad8": {
          "model_module": "@jupyter-widgets/controls",
          "model_name": "HBoxModel",
          "model_module_version": "1.5.0",
          "state": {
            "_view_name": "HBoxView",
            "_dom_classes": [],
            "_model_name": "HBoxModel",
            "_view_module": "@jupyter-widgets/controls",
            "_model_module_version": "1.5.0",
            "_view_count": null,
            "_view_module_version": "1.5.0",
            "box_style": "",
            "layout": "IPY_MODEL_03edd1a70d9548b89abcd9ef61fb0d92",
            "_model_module": "@jupyter-widgets/controls",
            "children": [
              "IPY_MODEL_e03518323d5047ceb2a515e76442a421",
              "IPY_MODEL_8507d47e9aee4712b0a8fbaf54827d7b",
              "IPY_MODEL_902051a86354419388ed23d1d51ec855"
            ]
          }
        },
        "03edd1a70d9548b89abcd9ef61fb0d92": {
          "model_module": "@jupyter-widgets/base",
          "model_name": "LayoutModel",
          "model_module_version": "1.2.0",
          "state": {
            "_view_name": "LayoutView",
            "grid_template_rows": null,
            "right": null,
            "justify_content": null,
            "_view_module": "@jupyter-widgets/base",
            "overflow": null,
            "_model_module_version": "1.2.0",
            "_view_count": null,
            "flex_flow": null,
            "width": null,
            "min_width": null,
            "border": null,
            "align_items": null,
            "bottom": null,
            "_model_module": "@jupyter-widgets/base",
            "top": null,
            "grid_column": null,
            "overflow_y": null,
            "overflow_x": null,
            "grid_auto_flow": null,
            "grid_area": null,
            "grid_template_columns": null,
            "flex": null,
            "_model_name": "LayoutModel",
            "justify_items": null,
            "grid_row": null,
            "max_height": null,
            "align_content": null,
            "visibility": null,
            "align_self": null,
            "height": null,
            "min_height": null,
            "padding": null,
            "grid_auto_rows": null,
            "grid_gap": null,
            "max_width": null,
            "order": null,
            "_view_module_version": "1.2.0",
            "grid_template_areas": null,
            "object_position": null,
            "object_fit": null,
            "grid_auto_columns": null,
            "margin": null,
            "display": null,
            "left": null
          }
        },
        "e03518323d5047ceb2a515e76442a421": {
          "model_module": "@jupyter-widgets/controls",
          "model_name": "HTMLModel",
          "model_module_version": "1.5.0",
          "state": {
            "_view_name": "HTMLView",
            "style": "IPY_MODEL_fb424a1c71884eb48dc5654a4bc68b55",
            "_dom_classes": [],
            "description": "",
            "_model_name": "HTMLModel",
            "placeholder": "​",
            "_view_module": "@jupyter-widgets/controls",
            "_model_module_version": "1.5.0",
            "value": "Dl Completed...: 100%",
            "_view_count": null,
            "_view_module_version": "1.5.0",
            "description_tooltip": null,
            "_model_module": "@jupyter-widgets/controls",
            "layout": "IPY_MODEL_127b8e07c7b04c13b7fbd9e9d5da7f30"
          }
        },
        "8507d47e9aee4712b0a8fbaf54827d7b": {
          "model_module": "@jupyter-widgets/controls",
          "model_name": "FloatProgressModel",
          "model_module_version": "1.5.0",
          "state": {
            "_view_name": "ProgressView",
            "style": "IPY_MODEL_40c77bceb3c94d72b2ebd84da77d33e1",
            "_dom_classes": [],
            "description": "",
            "_model_name": "FloatProgressModel",
            "bar_style": "success",
            "max": 1,
            "_view_module": "@jupyter-widgets/controls",
            "_model_module_version": "1.5.0",
            "value": 1,
            "_view_count": null,
            "_view_module_version": "1.5.0",
            "orientation": "horizontal",
            "min": 0,
            "description_tooltip": null,
            "_model_module": "@jupyter-widgets/controls",
            "layout": "IPY_MODEL_890cd3c92d2740aab5a8b178708c273c"
          }
        },
        "902051a86354419388ed23d1d51ec855": {
          "model_module": "@jupyter-widgets/controls",
          "model_name": "HTMLModel",
          "model_module_version": "1.5.0",
          "state": {
            "_view_name": "HTMLView",
            "style": "IPY_MODEL_08915611a12b4660af96ba9180c30755",
            "_dom_classes": [],
            "description": "",
            "_model_name": "HTMLModel",
            "placeholder": "​",
            "_view_module": "@jupyter-widgets/controls",
            "_model_module_version": "1.5.0",
            "value": " 1/1 [00:00&lt;00:00,  3.82 url/s]",
            "_view_count": null,
            "_view_module_version": "1.5.0",
            "description_tooltip": null,
            "_model_module": "@jupyter-widgets/controls",
            "layout": "IPY_MODEL_1168f6617c5540efbd66075ecc48d0d5"
          }
        },
        "fb424a1c71884eb48dc5654a4bc68b55": {
          "model_module": "@jupyter-widgets/controls",
          "model_name": "DescriptionStyleModel",
          "model_module_version": "1.5.0",
          "state": {
            "_view_name": "StyleView",
            "_model_name": "DescriptionStyleModel",
            "description_width": "",
            "_view_module": "@jupyter-widgets/base",
            "_model_module_version": "1.5.0",
            "_view_count": null,
            "_view_module_version": "1.2.0",
            "_model_module": "@jupyter-widgets/controls"
          }
        },
        "127b8e07c7b04c13b7fbd9e9d5da7f30": {
          "model_module": "@jupyter-widgets/base",
          "model_name": "LayoutModel",
          "model_module_version": "1.2.0",
          "state": {
            "_view_name": "LayoutView",
            "grid_template_rows": null,
            "right": null,
            "justify_content": null,
            "_view_module": "@jupyter-widgets/base",
            "overflow": null,
            "_model_module_version": "1.2.0",
            "_view_count": null,
            "flex_flow": null,
            "width": null,
            "min_width": null,
            "border": null,
            "align_items": null,
            "bottom": null,
            "_model_module": "@jupyter-widgets/base",
            "top": null,
            "grid_column": null,
            "overflow_y": null,
            "overflow_x": null,
            "grid_auto_flow": null,
            "grid_area": null,
            "grid_template_columns": null,
            "flex": null,
            "_model_name": "LayoutModel",
            "justify_items": null,
            "grid_row": null,
            "max_height": null,
            "align_content": null,
            "visibility": null,
            "align_self": null,
            "height": null,
            "min_height": null,
            "padding": null,
            "grid_auto_rows": null,
            "grid_gap": null,
            "max_width": null,
            "order": null,
            "_view_module_version": "1.2.0",
            "grid_template_areas": null,
            "object_position": null,
            "object_fit": null,
            "grid_auto_columns": null,
            "margin": null,
            "display": null,
            "left": null
          }
        },
        "40c77bceb3c94d72b2ebd84da77d33e1": {
          "model_module": "@jupyter-widgets/controls",
          "model_name": "ProgressStyleModel",
          "model_module_version": "1.5.0",
          "state": {
            "_view_name": "StyleView",
            "_model_name": "ProgressStyleModel",
            "description_width": "",
            "_view_module": "@jupyter-widgets/base",
            "_model_module_version": "1.5.0",
            "_view_count": null,
            "_view_module_version": "1.2.0",
            "bar_color": null,
            "_model_module": "@jupyter-widgets/controls"
          }
        },
        "890cd3c92d2740aab5a8b178708c273c": {
          "model_module": "@jupyter-widgets/base",
          "model_name": "LayoutModel",
          "model_module_version": "1.2.0",
          "state": {
            "_view_name": "LayoutView",
            "grid_template_rows": null,
            "right": null,
            "justify_content": null,
            "_view_module": "@jupyter-widgets/base",
            "overflow": null,
            "_model_module_version": "1.2.0",
            "_view_count": null,
            "flex_flow": null,
            "width": "20px",
            "min_width": null,
            "border": null,
            "align_items": null,
            "bottom": null,
            "_model_module": "@jupyter-widgets/base",
            "top": null,
            "grid_column": null,
            "overflow_y": null,
            "overflow_x": null,
            "grid_auto_flow": null,
            "grid_area": null,
            "grid_template_columns": null,
            "flex": null,
            "_model_name": "LayoutModel",
            "justify_items": null,
            "grid_row": null,
            "max_height": null,
            "align_content": null,
            "visibility": null,
            "align_self": null,
            "height": null,
            "min_height": null,
            "padding": null,
            "grid_auto_rows": null,
            "grid_gap": null,
            "max_width": null,
            "order": null,
            "_view_module_version": "1.2.0",
            "grid_template_areas": null,
            "object_position": null,
            "object_fit": null,
            "grid_auto_columns": null,
            "margin": null,
            "display": null,
            "left": null
          }
        },
        "08915611a12b4660af96ba9180c30755": {
          "model_module": "@jupyter-widgets/controls",
          "model_name": "DescriptionStyleModel",
          "model_module_version": "1.5.0",
          "state": {
            "_view_name": "StyleView",
            "_model_name": "DescriptionStyleModel",
            "description_width": "",
            "_view_module": "@jupyter-widgets/base",
            "_model_module_version": "1.5.0",
            "_view_count": null,
            "_view_module_version": "1.2.0",
            "_model_module": "@jupyter-widgets/controls"
          }
        },
        "1168f6617c5540efbd66075ecc48d0d5": {
          "model_module": "@jupyter-widgets/base",
          "model_name": "LayoutModel",
          "model_module_version": "1.2.0",
          "state": {
            "_view_name": "LayoutView",
            "grid_template_rows": null,
            "right": null,
            "justify_content": null,
            "_view_module": "@jupyter-widgets/base",
            "overflow": null,
            "_model_module_version": "1.2.0",
            "_view_count": null,
            "flex_flow": null,
            "width": null,
            "min_width": null,
            "border": null,
            "align_items": null,
            "bottom": null,
            "_model_module": "@jupyter-widgets/base",
            "top": null,
            "grid_column": null,
            "overflow_y": null,
            "overflow_x": null,
            "grid_auto_flow": null,
            "grid_area": null,
            "grid_template_columns": null,
            "flex": null,
            "_model_name": "LayoutModel",
            "justify_items": null,
            "grid_row": null,
            "max_height": null,
            "align_content": null,
            "visibility": null,
            "align_self": null,
            "height": null,
            "min_height": null,
            "padding": null,
            "grid_auto_rows": null,
            "grid_gap": null,
            "max_width": null,
            "order": null,
            "_view_module_version": "1.2.0",
            "grid_template_areas": null,
            "object_position": null,
            "object_fit": null,
            "grid_auto_columns": null,
            "margin": null,
            "display": null,
            "left": null
          }
        },
        "e65212a48d26451389ba9f46ce083a39": {
          "model_module": "@jupyter-widgets/controls",
          "model_name": "HBoxModel",
          "model_module_version": "1.5.0",
          "state": {
            "_view_name": "HBoxView",
            "_dom_classes": [],
            "_model_name": "HBoxModel",
            "_view_module": "@jupyter-widgets/controls",
            "_model_module_version": "1.5.0",
            "_view_count": null,
            "_view_module_version": "1.5.0",
            "box_style": "",
            "layout": "IPY_MODEL_3591e75be9a34241afd30bc32316c5f4",
            "_model_module": "@jupyter-widgets/controls",
            "children": [
              "IPY_MODEL_f8c6e9e7a3aa4c80979ae7f251b3f087",
              "IPY_MODEL_f0301a1291d946f2884ddf9e542481bb",
              "IPY_MODEL_bbbcf4714b534b20b621801fa0436d6f"
            ]
          }
        },
        "3591e75be9a34241afd30bc32316c5f4": {
          "model_module": "@jupyter-widgets/base",
          "model_name": "LayoutModel",
          "model_module_version": "1.2.0",
          "state": {
            "_view_name": "LayoutView",
            "grid_template_rows": null,
            "right": null,
            "justify_content": null,
            "_view_module": "@jupyter-widgets/base",
            "overflow": null,
            "_model_module_version": "1.2.0",
            "_view_count": null,
            "flex_flow": null,
            "width": null,
            "min_width": null,
            "border": null,
            "align_items": null,
            "bottom": null,
            "_model_module": "@jupyter-widgets/base",
            "top": null,
            "grid_column": null,
            "overflow_y": null,
            "overflow_x": null,
            "grid_auto_flow": null,
            "grid_area": null,
            "grid_template_columns": null,
            "flex": null,
            "_model_name": "LayoutModel",
            "justify_items": null,
            "grid_row": null,
            "max_height": null,
            "align_content": null,
            "visibility": null,
            "align_self": null,
            "height": null,
            "min_height": null,
            "padding": null,
            "grid_auto_rows": null,
            "grid_gap": null,
            "max_width": null,
            "order": null,
            "_view_module_version": "1.2.0",
            "grid_template_areas": null,
            "object_position": null,
            "object_fit": null,
            "grid_auto_columns": null,
            "margin": null,
            "display": null,
            "left": null
          }
        },
        "f8c6e9e7a3aa4c80979ae7f251b3f087": {
          "model_module": "@jupyter-widgets/controls",
          "model_name": "HTMLModel",
          "model_module_version": "1.5.0",
          "state": {
            "_view_name": "HTMLView",
            "style": "IPY_MODEL_51480a8f3f134dd39ae603b9c99c7c85",
            "_dom_classes": [],
            "description": "",
            "_model_name": "HTMLModel",
            "placeholder": "​",
            "_view_module": "@jupyter-widgets/controls",
            "_model_module_version": "1.5.0",
            "value": "Dl Size...: ",
            "_view_count": null,
            "_view_module_version": "1.5.0",
            "description_tooltip": null,
            "_model_module": "@jupyter-widgets/controls",
            "layout": "IPY_MODEL_9a78abd7af824c04b787ab5c7a9ade48"
          }
        },
        "f0301a1291d946f2884ddf9e542481bb": {
          "model_module": "@jupyter-widgets/controls",
          "model_name": "FloatProgressModel",
          "model_module_version": "1.5.0",
          "state": {
            "_view_name": "ProgressView",
            "style": "IPY_MODEL_86443d52bcc3499ca62c4a32fcee2071",
            "_dom_classes": [],
            "description": "",
            "_model_name": "FloatProgressModel",
            "bar_style": "success",
            "max": 1,
            "_view_module": "@jupyter-widgets/controls",
            "_model_module_version": "1.5.0",
            "value": 0,
            "_view_count": null,
            "_view_module_version": "1.5.0",
            "orientation": "horizontal",
            "min": 0,
            "description_tooltip": null,
            "_model_module": "@jupyter-widgets/controls",
            "layout": "IPY_MODEL_5df5223c9b4649eb8975eeba9e8cb8a1"
          }
        },
        "bbbcf4714b534b20b621801fa0436d6f": {
          "model_module": "@jupyter-widgets/controls",
          "model_name": "HTMLModel",
          "model_module_version": "1.5.0",
          "state": {
            "_view_name": "HTMLView",
            "style": "IPY_MODEL_1b9fde062a794d738a32a011eeb626dd",
            "_dom_classes": [],
            "description": "",
            "_model_name": "HTMLModel",
            "placeholder": "​",
            "_view_module": "@jupyter-widgets/controls",
            "_model_module_version": "1.5.0",
            "value": " 0/0 [00:00&lt;?, ? MiB/s]",
            "_view_count": null,
            "_view_module_version": "1.5.0",
            "description_tooltip": null,
            "_model_module": "@jupyter-widgets/controls",
            "layout": "IPY_MODEL_c52d84af84384afd9798cb4bc7341376"
          }
        },
        "51480a8f3f134dd39ae603b9c99c7c85": {
          "model_module": "@jupyter-widgets/controls",
          "model_name": "DescriptionStyleModel",
          "model_module_version": "1.5.0",
          "state": {
            "_view_name": "StyleView",
            "_model_name": "DescriptionStyleModel",
            "description_width": "",
            "_view_module": "@jupyter-widgets/base",
            "_model_module_version": "1.5.0",
            "_view_count": null,
            "_view_module_version": "1.2.0",
            "_model_module": "@jupyter-widgets/controls"
          }
        },
        "9a78abd7af824c04b787ab5c7a9ade48": {
          "model_module": "@jupyter-widgets/base",
          "model_name": "LayoutModel",
          "model_module_version": "1.2.0",
          "state": {
            "_view_name": "LayoutView",
            "grid_template_rows": null,
            "right": null,
            "justify_content": null,
            "_view_module": "@jupyter-widgets/base",
            "overflow": null,
            "_model_module_version": "1.2.0",
            "_view_count": null,
            "flex_flow": null,
            "width": null,
            "min_width": null,
            "border": null,
            "align_items": null,
            "bottom": null,
            "_model_module": "@jupyter-widgets/base",
            "top": null,
            "grid_column": null,
            "overflow_y": null,
            "overflow_x": null,
            "grid_auto_flow": null,
            "grid_area": null,
            "grid_template_columns": null,
            "flex": null,
            "_model_name": "LayoutModel",
            "justify_items": null,
            "grid_row": null,
            "max_height": null,
            "align_content": null,
            "visibility": null,
            "align_self": null,
            "height": null,
            "min_height": null,
            "padding": null,
            "grid_auto_rows": null,
            "grid_gap": null,
            "max_width": null,
            "order": null,
            "_view_module_version": "1.2.0",
            "grid_template_areas": null,
            "object_position": null,
            "object_fit": null,
            "grid_auto_columns": null,
            "margin": null,
            "display": null,
            "left": null
          }
        },
        "86443d52bcc3499ca62c4a32fcee2071": {
          "model_module": "@jupyter-widgets/controls",
          "model_name": "ProgressStyleModel",
          "model_module_version": "1.5.0",
          "state": {
            "_view_name": "StyleView",
            "_model_name": "ProgressStyleModel",
            "description_width": "",
            "_view_module": "@jupyter-widgets/base",
            "_model_module_version": "1.5.0",
            "_view_count": null,
            "_view_module_version": "1.2.0",
            "bar_color": null,
            "_model_module": "@jupyter-widgets/controls"
          }
        },
        "5df5223c9b4649eb8975eeba9e8cb8a1": {
          "model_module": "@jupyter-widgets/base",
          "model_name": "LayoutModel",
          "model_module_version": "1.2.0",
          "state": {
            "_view_name": "LayoutView",
            "grid_template_rows": null,
            "right": null,
            "justify_content": null,
            "_view_module": "@jupyter-widgets/base",
            "overflow": null,
            "_model_module_version": "1.2.0",
            "_view_count": null,
            "flex_flow": null,
            "width": "20px",
            "min_width": null,
            "border": null,
            "align_items": null,
            "bottom": null,
            "_model_module": "@jupyter-widgets/base",
            "top": null,
            "grid_column": null,
            "overflow_y": null,
            "overflow_x": null,
            "grid_auto_flow": null,
            "grid_area": null,
            "grid_template_columns": null,
            "flex": null,
            "_model_name": "LayoutModel",
            "justify_items": null,
            "grid_row": null,
            "max_height": null,
            "align_content": null,
            "visibility": null,
            "align_self": null,
            "height": null,
            "min_height": null,
            "padding": null,
            "grid_auto_rows": null,
            "grid_gap": null,
            "max_width": null,
            "order": null,
            "_view_module_version": "1.2.0",
            "grid_template_areas": null,
            "object_position": null,
            "object_fit": null,
            "grid_auto_columns": null,
            "margin": null,
            "display": null,
            "left": null
          }
        },
        "1b9fde062a794d738a32a011eeb626dd": {
          "model_module": "@jupyter-widgets/controls",
          "model_name": "DescriptionStyleModel",
          "model_module_version": "1.5.0",
          "state": {
            "_view_name": "StyleView",
            "_model_name": "DescriptionStyleModel",
            "description_width": "",
            "_view_module": "@jupyter-widgets/base",
            "_model_module_version": "1.5.0",
            "_view_count": null,
            "_view_module_version": "1.2.0",
            "_model_module": "@jupyter-widgets/controls"
          }
        },
        "c52d84af84384afd9798cb4bc7341376": {
          "model_module": "@jupyter-widgets/base",
          "model_name": "LayoutModel",
          "model_module_version": "1.2.0",
          "state": {
            "_view_name": "LayoutView",
            "grid_template_rows": null,
            "right": null,
            "justify_content": null,
            "_view_module": "@jupyter-widgets/base",
            "overflow": null,
            "_model_module_version": "1.2.0",
            "_view_count": null,
            "flex_flow": null,
            "width": null,
            "min_width": null,
            "border": null,
            "align_items": null,
            "bottom": null,
            "_model_module": "@jupyter-widgets/base",
            "top": null,
            "grid_column": null,
            "overflow_y": null,
            "overflow_x": null,
            "grid_auto_flow": null,
            "grid_area": null,
            "grid_template_columns": null,
            "flex": null,
            "_model_name": "LayoutModel",
            "justify_items": null,
            "grid_row": null,
            "max_height": null,
            "align_content": null,
            "visibility": null,
            "align_self": null,
            "height": null,
            "min_height": null,
            "padding": null,
            "grid_auto_rows": null,
            "grid_gap": null,
            "max_width": null,
            "order": null,
            "_view_module_version": "1.2.0",
            "grid_template_areas": null,
            "object_position": null,
            "object_fit": null,
            "grid_auto_columns": null,
            "margin": null,
            "display": null,
            "left": null
          }
        }
      }
    }
  },
  "cells": [
    {
      "cell_type": "markdown",
      "metadata": {
        "id": "view-in-github",
        "colab_type": "text"
      },
      "source": [
        "<a href=\"https://colab.research.google.com/github/Aliubit/ADM-HW-1-2020-/blob/main/NNDS_2021_Exercise2_Solution.ipynb\" target=\"_parent\"><img src=\"https://colab.research.google.com/assets/colab-badge.svg\" alt=\"Open In Colab\"/></a>"
      ]
    },
    {
      "cell_type": "markdown",
      "metadata": {
        "id": "9WMo5VGd67C7"
      },
      "source": [
        "## Exercise 2 (Solution)"
      ]
    },
    {
      "cell_type": "code",
      "metadata": {
        "id": "ZNTgocl8fu97"
      },
      "source": [
        "import tensorflow as tf\n",
        "from tensorflow.keras import Model, Sequential\n",
        "from tensorflow.keras import layers, initializers, losses, optimizers, metrics"
      ],
      "execution_count": null,
      "outputs": []
    },
    {
      "cell_type": "code",
      "metadata": {
        "id": "Jdzp8XUdsGQ9"
      },
      "source": [
        "import matplotlib.pyplot as plt\n",
        "import tqdm"
      ],
      "execution_count": null,
      "outputs": []
    },
    {
      "cell_type": "code",
      "metadata": {
        "colab": {
          "base_uri": "https://localhost:8080/"
        },
        "id": "rpUbt69RC78o",
        "outputId": "82015baa-f96e-4a5b-b8d3-214063baccc9"
      },
      "source": [
        "# We load the dataset\n",
        "%pip install tfds-nightly"
      ],
      "execution_count": null,
      "outputs": [
        {
          "output_type": "stream",
          "name": "stdout",
          "text": [
            "Collecting tfds-nightly\n",
            "  Downloading tfds_nightly-4.4.0.dev202110140107-py3-none-any.whl (4.0 MB)\n",
            "\u001b[K     |████████████████████████████████| 4.0 MB 37.2 MB/s \n",
            "\u001b[?25hRequirement already satisfied: dill in /usr/local/lib/python3.7/dist-packages (from tfds-nightly) (0.3.4)\n",
            "Requirement already satisfied: future in /usr/local/lib/python3.7/dist-packages (from tfds-nightly) (0.16.0)\n",
            "Requirement already satisfied: six in /usr/local/lib/python3.7/dist-packages (from tfds-nightly) (1.15.0)\n",
            "Requirement already satisfied: importlib-resources in /usr/local/lib/python3.7/dist-packages (from tfds-nightly) (5.2.2)\n",
            "Requirement already satisfied: termcolor in /usr/local/lib/python3.7/dist-packages (from tfds-nightly) (1.1.0)\n",
            "Requirement already satisfied: numpy in /usr/local/lib/python3.7/dist-packages (from tfds-nightly) (1.19.5)\n",
            "Requirement already satisfied: typing-extensions in /usr/local/lib/python3.7/dist-packages (from tfds-nightly) (3.7.4.3)\n",
            "Requirement already satisfied: absl-py in /usr/local/lib/python3.7/dist-packages (from tfds-nightly) (0.12.0)\n",
            "Requirement already satisfied: requests>=2.19.0 in /usr/local/lib/python3.7/dist-packages (from tfds-nightly) (2.23.0)\n",
            "Requirement already satisfied: tqdm in /usr/local/lib/python3.7/dist-packages (from tfds-nightly) (4.62.3)\n",
            "Requirement already satisfied: promise in /usr/local/lib/python3.7/dist-packages (from tfds-nightly) (2.3)\n",
            "Requirement already satisfied: protobuf>=3.12.2 in /usr/local/lib/python3.7/dist-packages (from tfds-nightly) (3.17.3)\n",
            "Requirement already satisfied: tensorflow-metadata in /usr/local/lib/python3.7/dist-packages (from tfds-nightly) (1.2.0)\n",
            "Requirement already satisfied: certifi>=2017.4.17 in /usr/local/lib/python3.7/dist-packages (from requests>=2.19.0->tfds-nightly) (2021.5.30)\n",
            "Requirement already satisfied: idna<3,>=2.5 in /usr/local/lib/python3.7/dist-packages (from requests>=2.19.0->tfds-nightly) (2.10)\n",
            "Requirement already satisfied: urllib3!=1.25.0,!=1.25.1,<1.26,>=1.21.1 in /usr/local/lib/python3.7/dist-packages (from requests>=2.19.0->tfds-nightly) (1.24.3)\n",
            "Requirement already satisfied: chardet<4,>=3.0.2 in /usr/local/lib/python3.7/dist-packages (from requests>=2.19.0->tfds-nightly) (3.0.4)\n",
            "Requirement already satisfied: zipp>=3.1.0 in /usr/local/lib/python3.7/dist-packages (from importlib-resources->tfds-nightly) (3.6.0)\n",
            "Requirement already satisfied: googleapis-common-protos<2,>=1.52.0 in /usr/local/lib/python3.7/dist-packages (from tensorflow-metadata->tfds-nightly) (1.53.0)\n",
            "Installing collected packages: tfds-nightly\n",
            "Successfully installed tfds-nightly-4.4.0.dev202110140107\n"
          ]
        }
      ]
    },
    {
      "cell_type": "code",
      "metadata": {
        "colab": {
          "base_uri": "https://localhost:8080/",
          "height": 116,
          "referenced_widgets": [
            "c7ef3f32cff141ebba02669681b73ad8",
            "03edd1a70d9548b89abcd9ef61fb0d92",
            "e03518323d5047ceb2a515e76442a421",
            "8507d47e9aee4712b0a8fbaf54827d7b",
            "902051a86354419388ed23d1d51ec855",
            "fb424a1c71884eb48dc5654a4bc68b55",
            "127b8e07c7b04c13b7fbd9e9d5da7f30",
            "40c77bceb3c94d72b2ebd84da77d33e1",
            "890cd3c92d2740aab5a8b178708c273c",
            "08915611a12b4660af96ba9180c30755",
            "1168f6617c5540efbd66075ecc48d0d5",
            "e65212a48d26451389ba9f46ce083a39",
            "3591e75be9a34241afd30bc32316c5f4",
            "f8c6e9e7a3aa4c80979ae7f251b3f087",
            "f0301a1291d946f2884ddf9e542481bb",
            "bbbcf4714b534b20b621801fa0436d6f",
            "51480a8f3f134dd39ae603b9c99c7c85",
            "9a78abd7af824c04b787ab5c7a9ade48",
            "86443d52bcc3499ca62c4a32fcee2071",
            "5df5223c9b4649eb8975eeba9e8cb8a1",
            "1b9fde062a794d738a32a011eeb626dd",
            "c52d84af84384afd9798cb4bc7341376",
            "3b67ae2f9c8a4b33a58b9592e517d8d2",
            "ba83137890774af6bfa61fa854eecf45",
            "3214e9c038e045c5954baf077e2aef71"
          ]
        },
        "id": "rYxJgSMpC_wj",
        "outputId": "7dc39c8d-6341-4664-a84e-ce84d4e7181e"
      },
      "source": [
        "import tensorflow_datasets as tfds\n",
        "train_data = tfds.load('penguins', split='train[:75%]')\n",
        "test_data = tfds.load('penguins', split='train[75%:]')"
      ],
      "execution_count": null,
      "outputs": [
        {
          "output_type": "stream",
          "name": "stdout",
          "text": [
            "\u001b[1mDownloading and preparing dataset 25.05 KiB (download: 25.05 KiB, generated: 17.61 KiB, total: 42.66 KiB) to /root/tensorflow_datasets/penguins/processed/1.0.0...\u001b[0m\n"
          ]
        },
        {
          "output_type": "display_data",
          "data": {
            "application/vnd.jupyter.widget-view+json": {
              "model_id": "c7ef3f32cff141ebba02669681b73ad8",
              "version_minor": 0,
              "version_major": 2
            },
            "text/plain": [
              "Dl Completed...: 0 url [00:00, ? url/s]"
            ]
          },
          "metadata": {}
        },
        {
          "output_type": "display_data",
          "data": {
            "application/vnd.jupyter.widget-view+json": {
              "model_id": "e65212a48d26451389ba9f46ce083a39",
              "version_minor": 0,
              "version_major": 2
            },
            "text/plain": [
              "Dl Size...: 0 MiB [00:00, ? MiB/s]"
            ]
          },
          "metadata": {}
        },
        {
          "output_type": "display_data",
          "data": {
            "application/vnd.jupyter.widget-view+json": {
              "model_id": "3b67ae2f9c8a4b33a58b9592e517d8d2",
              "version_minor": 0,
              "version_major": 2
            },
            "text/plain": [
              "Generating splits...:   0%|          | 0/1 [00:00<?, ? splits/s]"
            ]
          },
          "metadata": {}
        },
        {
          "output_type": "display_data",
          "data": {
            "application/vnd.jupyter.widget-view+json": {
              "model_id": "ba83137890774af6bfa61fa854eecf45",
              "version_minor": 0,
              "version_major": 2
            },
            "text/plain": [
              "Generating train examples...:   0%|          | 0/334 [00:00<?, ? examples/s]"
            ]
          },
          "metadata": {}
        },
        {
          "output_type": "display_data",
          "data": {
            "application/vnd.jupyter.widget-view+json": {
              "model_id": "3214e9c038e045c5954baf077e2aef71",
              "version_minor": 0,
              "version_major": 2
            },
            "text/plain": [
              "Shuffling penguins-train.tfrecord...:   0%|          | 0/334 [00:00<?, ? examples/s]"
            ]
          },
          "metadata": {}
        },
        {
          "output_type": "stream",
          "name": "stdout",
          "text": [
            "\u001b[1mDataset penguins downloaded and prepared to /root/tensorflow_datasets/penguins/processed/1.0.0. Subsequent calls will reuse this data.\u001b[0m\n"
          ]
        }
      ]
    },
    {
      "cell_type": "markdown",
      "metadata": {
        "id": "1dodoLBoFJHM"
      },
      "source": [
        "## 1: Modifying the initialization method"
      ]
    },
    {
      "cell_type": "code",
      "metadata": {
        "id": "MnXt8CFlqeFu"
      },
      "source": [
        "# Like in many modules, we have functional and object-oriented versions of the initializers: we show both here.\n",
        "model = Sequential([\n",
        "     layers.Dense(12, activation='relu', kernel_initializer=initializers.GlorotNormal(), bias_initializer=initializers.Ones()),\n",
        "     layers.Dense(3, kernel_initializer=initializers.glorot_normal, bias_initializer=initializers.ones)       \n",
        "])"
      ],
      "execution_count": null,
      "outputs": []
    },
    {
      "cell_type": "code",
      "metadata": {
        "id": "dTQUiKYZrhTT",
        "colab": {
          "base_uri": "https://localhost:8080/"
        },
        "outputId": "7b7b8f54-e6fa-4ea3-9361-67b3e6132551"
      },
      "source": [
        "# We feed a batch of data and check the biases\n",
        "_ = model(tf.random.normal((1, 4)))\n",
        "print(model.trainable_variables[1])"
      ],
      "execution_count": null,
      "outputs": [
        {
          "output_type": "stream",
          "name": "stdout",
          "text": [
            "<tf.Variable 'dense/bias:0' shape=(12,) dtype=float32, numpy=array([1., 1., 1., 1., 1., 1., 1., 1., 1., 1., 1., 1.], dtype=float32)>\n"
          ]
        }
      ]
    },
    {
      "cell_type": "markdown",
      "metadata": {
        "id": "vsSGllPJC4Zc"
      },
      "source": [
        "## Rewriting the optimization loop"
      ]
    },
    {
      "cell_type": "code",
      "metadata": {
        "id": "J3zFXz92C6Rl"
      },
      "source": [
        "cross_entropy = losses.SparseCategoricalCrossentropy(from_logits=True)\n",
        "adam = optimizers.Adam()"
      ],
      "execution_count": null,
      "outputs": []
    },
    {
      "cell_type": "code",
      "metadata": {
        "id": "C1IhQocEDRMW"
      },
      "source": [
        "@tf.function\n",
        "def train_model(data):\n",
        "\n",
        "    X, y = data['features'], data['species']\n",
        "\n",
        "    with tf.GradientTape() as tape:\n",
        "        # Compute the outputs of the model\n",
        "        yhat = model(X)\n",
        "\n",
        "        # Compute the loss\n",
        "        loss = cross_entropy(y, yhat)\n",
        "\n",
        "    # --> This is the major modification <--\n",
        "    adam.minimize(loss, var_list=model.trainable_variables, tape=tape)\n",
        "\n",
        "    return loss"
      ],
      "execution_count": null,
      "outputs": []
    },
    {
      "cell_type": "code",
      "metadata": {
        "colab": {
          "base_uri": "https://localhost:8080/"
        },
        "id": "XNiiGyKADa69",
        "outputId": "bab603d9-b052-4189-86b1-98153a4151bd"
      },
      "source": [
        "loss_history = []\n",
        "for epoch in tqdm.tqdm(range(50)):\n",
        "    for batch in train_data.shuffle(1000).batch(8):\n",
        "        loss_history.append(train_model(batch).numpy())"
      ],
      "execution_count": null,
      "outputs": [
        {
          "output_type": "stream",
          "name": "stderr",
          "text": [
            "100%|██████████| 50/50 [00:03<00:00, 15.63it/s]\n"
          ]
        }
      ]
    },
    {
      "cell_type": "code",
      "metadata": {
        "colab": {
          "base_uri": "https://localhost:8080/",
          "height": 283
        },
        "id": "tZtl79qmDkPt",
        "outputId": "e96710fe-ec5c-40e2-ec6a-0cd1c602d63c"
      },
      "source": [
        "plt.plot(loss_history)"
      ],
      "execution_count": null,
      "outputs": [
        {
          "output_type": "execute_result",
          "data": {
            "text/plain": [
              "[<matplotlib.lines.Line2D at 0x7f820775ab50>]"
            ]
          },
          "metadata": {},
          "execution_count": 23
        },
        {
          "output_type": "display_data",
          "data": {
            "image/png": "[encoded data removed]",
            "text/plain": [
              "<Figure size 432x288 with 1 Axes>"
            ]
          },
          "metadata": {
            "needs_background": "light"
          }
        }
      ]
    },
    {
      "cell_type": "code",
      "metadata": {
        "id": "S7rQccfdEyae"
      },
      "source": [
        "# This is a variant, where we replace the computation of the loss with a single callable.\n",
        "# However, returning the loss here is non trivial.\n",
        "@tf.function\n",
        "def train_model_v2(data):\n",
        "\n",
        "    X, y = data['features'], data['species']\n",
        "\n",
        "    # --> This is now a callable without arguments <--\n",
        "    loss = lambda: cross_entropy(y, model(X))\n",
        "\n",
        "    # --> The list of variables must also be a callable with no arguments <--\n",
        "    adam.minimize(loss, var_list=lambda: model.trainable_variables)"
      ],
      "execution_count": null,
      "outputs": []
    },
    {
      "cell_type": "code",
      "metadata": {
        "colab": {
          "base_uri": "https://localhost:8080/"
        },
        "id": "2k7za7q-Ff2f",
        "outputId": "237ead7a-ea48-4616-f894-22c91d171423"
      },
      "source": [
        "for epoch in tqdm.tqdm(range(50)):\n",
        "    for batch in train_data.shuffle(1000).batch(8):\n",
        "        train_model_v2(batch)"
      ],
      "execution_count": null,
      "outputs": [
        {
          "output_type": "stream",
          "name": "stderr",
          "text": [
            "100%|██████████| 50/50 [00:02<00:00, 17.57it/s]\n"
          ]
        }
      ]
    },
    {
      "cell_type": "markdown",
      "metadata": {
        "id": "_nL3T9BKF5yh"
      },
      "source": [
        "## Exercise 3: Writing a custom training loop for `tf.keras.Model`"
      ]
    },
    {
      "cell_type": "code",
      "metadata": {
        "id": "0ZmvcHrEF8lt"
      },
      "source": [
        "class CustomModel(Model):\n",
        "    def __init__(self, num_hidden_units=12):\n",
        "      super().__init__() # --> This is just boilerplate for subclassing\n",
        "      # We define all necessary layers during initialization\n",
        "      self.hidden_layer = layers.Dense(12, activation='relu')\n",
        "      self.output_layer = layers.Dense(3)\n",
        "\n",
        "    def __call__(self, X):\n",
        "      # We manually call the layers in sequence\n",
        "      return self.output_layer(\n",
        "          self.hidden_layer(X)\n",
        "      )\n",
        "\n",
        "    def train_step(self, data):\n",
        "      # This is an adaptation of train_model from the lab session.\n",
        "\n",
        "      X, y = data['features'], data['species']\n",
        "\n",
        "      with tf.GradientTape() as tape:\n",
        "          # Compute the outputs of the model (using self now)\n",
        "          yhat = self(X)\n",
        "\n",
        "          # Compute the loss (with is now a parameter of the compiled model)\n",
        "          loss = self.compiled_loss(y, yhat)\n",
        "\n",
        "      # Compute the gradients of the loss (also with respect to self)\n",
        "      grads = tape.gradient(loss, self.trainable_variables)\n",
        "\n",
        "      # Apply the gradients\n",
        "      adam.apply_gradients(zip(grads, self.trainable_variables))\n",
        "\n",
        "      # Because we are running inside fit(), we also update all metrics and return them.\n",
        "      # This also includes the loss.\n",
        "      self.compiled_metrics.update_state(y, yhat)\n",
        "      return {m.name: m.result() for m in self.metrics}\n",
        "\n",
        "    def test_step(self, data):\n",
        "      # We need this function to evaluate the model on the validation_data:\n",
        "      # # https://www.tensorflow.org/guide/keras/customizing_what_happens_in_fit#providing_your_own_evaluation_step\n",
        "      \n",
        "      X, y = data['features'], data['species']\n",
        "      yhat = self(X)\n",
        "      \n",
        "      # We compute the same metrics as in the train_step\n",
        "      self.compiled_loss(y, yhat)\n",
        "      self.compiled_metrics.update_state(y, yhat)\n",
        "      return {m.name: m.result() for m in self.metrics}"
      ],
      "execution_count": null,
      "outputs": []
    },
    {
      "cell_type": "code",
      "metadata": {
        "id": "Oaw3JuOaG14G"
      },
      "source": [
        "model = CustomModel()"
      ],
      "execution_count": null,
      "outputs": []
    },
    {
      "cell_type": "code",
      "metadata": {
        "id": "2LiSRM5CG8Ed"
      },
      "source": [
        "model.compile(loss=cross_entropy, optimizer=adam, metrics=[accuracy])"
      ],
      "execution_count": null,
      "outputs": []
    },
    {
      "cell_type": "code",
      "metadata": {
        "colab": {
          "base_uri": "https://localhost:8080/"
        },
        "id": "ZIrDc3UsH-_m",
        "outputId": "e4327390-a880-4489-e67c-3062cb242e62"
      },
      "source": [
        "# We can now use our data without splitting X and y. :-)\n",
        "model.fit(\n",
        "    train_data.shuffle(1000).batch(8), \n",
        "    epochs=50,\n",
        "    validation_data=test_data.batch(8)\n",
        ")"
      ],
      "execution_count": null,
      "outputs": [
        {
          "output_type": "stream",
          "name": "stdout",
          "text": [
            "Epoch 1/50\n",
            "32/32 [==============================] - 1s 7ms/step - loss: 1.0357 - sparse_categorical_accuracy: 0.7420 - val_loss: 0.8614 - val_sparse_categorical_accuracy: 0.8333\n",
            "Epoch 2/50\n",
            "32/32 [==============================] - 0s 2ms/step - loss: 0.8447 - sparse_categorical_accuracy: 0.7680 - val_loss: 0.7011 - val_sparse_categorical_accuracy: 0.8690\n",
            "Epoch 3/50\n",
            "32/32 [==============================] - 0s 3ms/step - loss: 0.7258 - sparse_categorical_accuracy: 0.7680 - val_loss: 0.6057 - val_sparse_categorical_accuracy: 0.8690\n",
            "Epoch 4/50\n",
            "32/32 [==============================] - 0s 2ms/step - loss: 0.6409 - sparse_categorical_accuracy: 0.7680 - val_loss: 0.5286 - val_sparse_categorical_accuracy: 0.8690\n",
            "Epoch 5/50\n",
            "32/32 [==============================] - 0s 2ms/step - loss: 0.5765 - sparse_categorical_accuracy: 0.7680 - val_loss: 0.4793 - val_sparse_categorical_accuracy: 0.8690\n",
            "Epoch 6/50\n",
            "32/32 [==============================] - 0s 2ms/step - loss: 0.5265 - sparse_categorical_accuracy: 0.7880 - val_loss: 0.4429 - val_sparse_categorical_accuracy: 0.9167\n",
            "Epoch 7/50\n",
            "32/32 [==============================] - 0s 2ms/step - loss: 0.4858 - sparse_categorical_accuracy: 0.8160 - val_loss: 0.4028 - val_sparse_categorical_accuracy: 0.9167\n",
            "Epoch 8/50\n",
            "32/32 [==============================] - 0s 2ms/step - loss: 0.4514 - sparse_categorical_accuracy: 0.8560 - val_loss: 0.3797 - val_sparse_categorical_accuracy: 0.9286\n",
            "Epoch 9/50\n",
            "32/32 [==============================] - 0s 2ms/step - loss: 0.4233 - sparse_categorical_accuracy: 0.8720 - val_loss: 0.3550 - val_sparse_categorical_accuracy: 0.9524\n",
            "Epoch 10/50\n",
            "32/32 [==============================] - 0s 2ms/step - loss: 0.3980 - sparse_categorical_accuracy: 0.8720 - val_loss: 0.3292 - val_sparse_categorical_accuracy: 0.9405\n",
            "Epoch 11/50\n",
            "32/32 [==============================] - 0s 2ms/step - loss: 0.3765 - sparse_categorical_accuracy: 0.8960 - val_loss: 0.3144 - val_sparse_categorical_accuracy: 0.9762\n",
            "Epoch 12/50\n",
            "32/32 [==============================] - 0s 2ms/step - loss: 0.3568 - sparse_categorical_accuracy: 0.9120 - val_loss: 0.2949 - val_sparse_categorical_accuracy: 0.9762\n",
            "Epoch 13/50\n",
            "32/32 [==============================] - 0s 2ms/step - loss: 0.3405 - sparse_categorical_accuracy: 0.9040 - val_loss: 0.2802 - val_sparse_categorical_accuracy: 0.9762\n",
            "Epoch 14/50\n",
            "32/32 [==============================] - 0s 3ms/step - loss: 0.3252 - sparse_categorical_accuracy: 0.9440 - val_loss: 0.2722 - val_sparse_categorical_accuracy: 0.9762\n",
            "Epoch 15/50\n",
            "32/32 [==============================] - 0s 2ms/step - loss: 0.3101 - sparse_categorical_accuracy: 0.9320 - val_loss: 0.2572 - val_sparse_categorical_accuracy: 0.9762\n",
            "Epoch 16/50\n",
            "32/32 [==============================] - 0s 2ms/step - loss: 0.2969 - sparse_categorical_accuracy: 0.9520 - val_loss: 0.2480 - val_sparse_categorical_accuracy: 0.9881\n",
            "Epoch 17/50\n",
            "32/32 [==============================] - 0s 2ms/step - loss: 0.2841 - sparse_categorical_accuracy: 0.9440 - val_loss: 0.2340 - val_sparse_categorical_accuracy: 0.9881\n",
            "Epoch 18/50\n",
            "32/32 [==============================] - 0s 2ms/step - loss: 0.2733 - sparse_categorical_accuracy: 0.9480 - val_loss: 0.2261 - val_sparse_categorical_accuracy: 0.9881\n",
            "Epoch 19/50\n",
            "32/32 [==============================] - 0s 2ms/step - loss: 0.2627 - sparse_categorical_accuracy: 0.9520 - val_loss: 0.2163 - val_sparse_categorical_accuracy: 0.9881\n",
            "Epoch 20/50\n",
            "32/32 [==============================] - 0s 2ms/step - loss: 0.2537 - sparse_categorical_accuracy: 0.9600 - val_loss: 0.2136 - val_sparse_categorical_accuracy: 0.9881\n",
            "Epoch 21/50\n",
            "32/32 [==============================] - 0s 2ms/step - loss: 0.2436 - sparse_categorical_accuracy: 0.9560 - val_loss: 0.1986 - val_sparse_categorical_accuracy: 0.9881\n",
            "Epoch 22/50\n",
            "32/32 [==============================] - 0s 3ms/step - loss: 0.2351 - sparse_categorical_accuracy: 0.9600 - val_loss: 0.1959 - val_sparse_categorical_accuracy: 0.9881\n",
            "Epoch 23/50\n",
            "32/32 [==============================] - 0s 2ms/step - loss: 0.2270 - sparse_categorical_accuracy: 0.9560 - val_loss: 0.1870 - val_sparse_categorical_accuracy: 0.9881\n",
            "Epoch 24/50\n",
            "32/32 [==============================] - 0s 2ms/step - loss: 0.2202 - sparse_categorical_accuracy: 0.9560 - val_loss: 0.1803 - val_sparse_categorical_accuracy: 0.9881\n",
            "Epoch 25/50\n",
            "32/32 [==============================] - 0s 2ms/step - loss: 0.2120 - sparse_categorical_accuracy: 0.9600 - val_loss: 0.1782 - val_sparse_categorical_accuracy: 0.9881\n",
            "Epoch 26/50\n",
            "32/32 [==============================] - 0s 2ms/step - loss: 0.2066 - sparse_categorical_accuracy: 0.9600 - val_loss: 0.1682 - val_sparse_categorical_accuracy: 0.9881\n",
            "Epoch 27/50\n",
            "32/32 [==============================] - 0s 2ms/step - loss: 0.1992 - sparse_categorical_accuracy: 0.9600 - val_loss: 0.1635 - val_sparse_categorical_accuracy: 0.9881\n",
            "Epoch 28/50\n",
            "32/32 [==============================] - 0s 2ms/step - loss: 0.1933 - sparse_categorical_accuracy: 0.9600 - val_loss: 0.1558 - val_sparse_categorical_accuracy: 0.9881\n",
            "Epoch 29/50\n",
            "32/32 [==============================] - 0s 2ms/step - loss: 0.1874 - sparse_categorical_accuracy: 0.9640 - val_loss: 0.1538 - val_sparse_categorical_accuracy: 0.9881\n",
            "Epoch 30/50\n",
            "32/32 [==============================] - 0s 2ms/step - loss: 0.1823 - sparse_categorical_accuracy: 0.9640 - val_loss: 0.1471 - val_sparse_categorical_accuracy: 0.9881\n",
            "Epoch 31/50\n",
            "32/32 [==============================] - 0s 2ms/step - loss: 0.1786 - sparse_categorical_accuracy: 0.9600 - val_loss: 0.1429 - val_sparse_categorical_accuracy: 0.9881\n",
            "Epoch 32/50\n",
            "32/32 [==============================] - 0s 2ms/step - loss: 0.1722 - sparse_categorical_accuracy: 0.9640 - val_loss: 0.1406 - val_sparse_categorical_accuracy: 0.9881\n",
            "Epoch 33/50\n",
            "32/32 [==============================] - 0s 2ms/step - loss: 0.1676 - sparse_categorical_accuracy: 0.9640 - val_loss: 0.1339 - val_sparse_categorical_accuracy: 0.9881\n",
            "Epoch 34/50\n",
            "32/32 [==============================] - 0s 2ms/step - loss: 0.1632 - sparse_categorical_accuracy: 0.9640 - val_loss: 0.1290 - val_sparse_categorical_accuracy: 0.9881\n",
            "Epoch 35/50\n",
            "32/32 [==============================] - 0s 2ms/step - loss: 0.1600 - sparse_categorical_accuracy: 0.9640 - val_loss: 0.1267 - val_sparse_categorical_accuracy: 0.9881\n",
            "Epoch 36/50\n",
            "32/32 [==============================] - 0s 2ms/step - loss: 0.1554 - sparse_categorical_accuracy: 0.9640 - val_loss: 0.1206 - val_sparse_categorical_accuracy: 0.9881\n",
            "Epoch 37/50\n",
            "32/32 [==============================] - 0s 2ms/step - loss: 0.1510 - sparse_categorical_accuracy: 0.9640 - val_loss: 0.1215 - val_sparse_categorical_accuracy: 0.9881\n",
            "Epoch 38/50\n",
            "32/32 [==============================] - 0s 2ms/step - loss: 0.1479 - sparse_categorical_accuracy: 0.9680 - val_loss: 0.1189 - val_sparse_categorical_accuracy: 0.9881\n",
            "Epoch 39/50\n",
            "32/32 [==============================] - 0s 2ms/step - loss: 0.1445 - sparse_categorical_accuracy: 0.9680 - val_loss: 0.1136 - val_sparse_categorical_accuracy: 0.9881\n",
            "Epoch 40/50\n",
            "32/32 [==============================] - 0s 2ms/step - loss: 0.1406 - sparse_categorical_accuracy: 0.9680 - val_loss: 0.1097 - val_sparse_categorical_accuracy: 0.9881\n",
            "Epoch 41/50\n",
            "32/32 [==============================] - 0s 3ms/step - loss: 0.1371 - sparse_categorical_accuracy: 0.9680 - val_loss: 0.1085 - val_sparse_categorical_accuracy: 0.9881\n",
            "Epoch 42/50\n",
            "32/32 [==============================] - 0s 2ms/step - loss: 0.1346 - sparse_categorical_accuracy: 0.9680 - val_loss: 0.1076 - val_sparse_categorical_accuracy: 0.9881\n",
            "Epoch 43/50\n",
            "32/32 [==============================] - 0s 2ms/step - loss: 0.1309 - sparse_categorical_accuracy: 0.9680 - val_loss: 0.1011 - val_sparse_categorical_accuracy: 0.9881\n",
            "Epoch 44/50\n",
            "32/32 [==============================] - 0s 2ms/step - loss: 0.1287 - sparse_categorical_accuracy: 0.9680 - val_loss: 0.0980 - val_sparse_categorical_accuracy: 0.9881\n",
            "Epoch 45/50\n",
            "32/32 [==============================] - 0s 2ms/step - loss: 0.1255 - sparse_categorical_accuracy: 0.9680 - val_loss: 0.0981 - val_sparse_categorical_accuracy: 0.9881\n",
            "Epoch 46/50\n",
            "32/32 [==============================] - 0s 2ms/step - loss: 0.1229 - sparse_categorical_accuracy: 0.9720 - val_loss: 0.0940 - val_sparse_categorical_accuracy: 0.9881\n",
            "Epoch 47/50\n",
            "32/32 [==============================] - 0s 2ms/step - loss: 0.1202 - sparse_categorical_accuracy: 0.9720 - val_loss: 0.0929 - val_sparse_categorical_accuracy: 0.9881\n",
            "Epoch 48/50\n",
            "32/32 [==============================] - 0s 2ms/step - loss: 0.1183 - sparse_categorical_accuracy: 0.9680 - val_loss: 0.0900 - val_sparse_categorical_accuracy: 0.9881\n",
            "Epoch 49/50\n",
            "32/32 [==============================] - 0s 2ms/step - loss: 0.1154 - sparse_categorical_accuracy: 0.9720 - val_loss: 0.0886 - val_sparse_categorical_accuracy: 0.9881\n",
            "Epoch 50/50\n",
            "32/32 [==============================] - 0s 2ms/step - loss: 0.1147 - sparse_categorical_accuracy: 0.9760 - val_loss: 0.0886 - val_sparse_categorical_accuracy: 1.0000\n"
          ]
        },
        {
          "output_type": "execute_result",
          "data": {
            "text/plain": [
              "<keras.callbacks.History at 0x7f82081a0590>"
            ]
          },
          "metadata": {},
          "execution_count": 45
        }
      ]
    },
    {
      "cell_type": "code",
      "metadata": {
        "id": "5IFUC217IziF"
      },
      "source": [
        ""
      ],
      "execution_count": null,
      "outputs": []
    }
  ]
}